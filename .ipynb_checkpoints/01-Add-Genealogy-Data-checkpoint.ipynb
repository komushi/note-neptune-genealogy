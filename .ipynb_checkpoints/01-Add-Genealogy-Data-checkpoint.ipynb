{
 "cells": [
  {
   "cell_type": "code",
   "execution_count": 4,
   "id": "d1c4d7c6",
   "metadata": {},
   "outputs": [
    {
     "data": {
      "text/plain": [
       "{'status': 'healthy',\n",
       " 'startTime': 'Sun Jan 23 13:31:58 UTC 2022',\n",
       " 'dbEngineVersion': '',\n",
       " 'role': 'writer',\n",
       " 'gremlin': {'version': 'tinkerpop-3.4.11'},\n",
       " 'sparql': {'version': 'sparql-1.1'},\n",
       " 'labMode': {'ObjectIndex': 'disabled',\n",
       "  'DFEQueryEngine': 'viaQueryHint',\n",
       "  'ReadWriteConflictDetection': 'enabled'},\n",
       " 'features': {'ResultCache': {'status': 'disabled'},\n",
       "  'IAMAuthentication': 'disabled',\n",
       "  'Streams': 'disabled',\n",
       "  'AuditLog': 'disabled'},\n",
       " 'settings': {'clusterQueryTimeoutInMs': '120000'}}"
      ]
     },
     "execution_count": 4,
     "metadata": {},
     "output_type": "execute_result"
    }
   ],
   "source": [
    "%status"
   ]
  },
  {
   "cell_type": "code",
   "execution_count": 6,
   "id": "378b61ed",
   "metadata": {},
   "outputs": [
    {
     "data": {
      "application/vnd.jupyter.widget-view+json": {
       "model_id": "d42a166488ef46b48f73a446b4d638c9",
       "version_major": 2,
       "version_minor": 0
      },
      "text/plain": [
       "Tab(children=(Output(layout=Layout(max_height='600px', overflow='scroll', width='100%')), Output(layout=Layout…"
      ]
     },
     "metadata": {},
     "output_type": "display_data"
    }
   ],
   "source": [
    "%%gremlin\n",
    "\n",
    "g.addV('LOT').property(id, '20190715-1-2900SBIF0107-733800D100').property('PRODUCTNO', '733800D100').property('SITECODE', '2900')\n",
    ".addV('LOT').property(id, '20190715-1-2900SBIF0104-72800517').property('PRODUCTNO', '72800517').property('SITECODE', '2900')\n",
    ".addV('LOT').property(id, '20190625-1-2900SBOS0208-3B38310225').property('PRODUCTNO', '3B38310225').property('SITECODE', '2900')\n",
    ".addV('LOT').property(id, 'T5052407H-9').property('PRODUCTNO', '7B38225-AA').property('SITECODE', '2900')\n",
    ".addV('LOT').property(id, 'T5052407H-11').property('PRODUCTNO', '7B38225-AA').property('SITECODE', '2900')\n",
    ".V('20190715-1-2900SBIF0107-733800D100').addE('consists_of').from(V('20190715-1-2900SBIF0107-733800D100')).property('WIPORDERNO', '20301238013')\n",
    ".V('20190715-1-2900SBIF0107-733800D100').addE('consists_of').from(V('20190715-1-2900SBIF0104-72800517')).property('WIPORDERNO', '20301238013')\n",
    ".V('20190715-1-2900SBIF0104-72800517').addE('consists_of').from(V('20190715-1-2900SBIF0104-72800517')).property('WIPORDERNO', '20301238013')\n",
    ".V('20190715-1-2900SBIF0104-72800517').addE('consists_of').from(V('20190625-1-2900SBOS0208-3B38310225')).property('WIPORDERNO', '20301237736')\n",
    ".V('20190625-1-2900SBOS0208-3B38310225').addE('consists_of').from(V('T5052407H-9')).property('WIPORDERNO', '20101205235')\n",
    ".V('20190625-1-2900SBOS0208-3B38310225').addE('consists_of').from(V('T5052407H-11')).property('WIPORDERNO', '20101205235')\n",
    "\n"
   ]
  },
  {
   "cell_type": "code",
   "execution_count": 1,
   "id": "910a7d3b",
   "metadata": {},
   "outputs": [
    {
     "data": {
      "application/vnd.jupyter.widget-view+json": {
       "model_id": "b171585b6d374a3486df4393d0fba808",
       "version_major": 2,
       "version_minor": 0
      },
      "text/plain": [
       "Tab(children=(Output(layout=Layout(max_height='600px', overflow='scroll', width='100%')), Force(network=<graph…"
      ]
     },
     "metadata": {},
     "output_type": "display_data"
    }
   ],
   "source": [
    "%%gremlin\n",
    "\n",
    "g.V().has(\"LOT\", \"PRODUCTNO\", \"7B38225-AA\")\n",
    ".repeat(outE('consists_of').inV().simplePath())\n",
    ".until(has(\"LOT\", \"PRODUCTNO\", \"733800D100\"))\n",
    ".path().limit(10)\n",
    "\n"
   ]
  },
  {
   "cell_type": "code",
   "execution_count": 2,
   "id": "f98607b4",
   "metadata": {},
   "outputs": [
    {
     "data": {
      "application/vnd.jupyter.widget-view+json": {
       "model_id": "5c3aae6f64b14090977dff909124fe7f",
       "version_major": 2,
       "version_minor": 0
      },
      "text/plain": [
       "Tab(children=(Output(layout=Layout(max_height='600px', overflow='scroll', width='100%')), Force(network=<graph…"
      ]
     },
     "metadata": {},
     "output_type": "display_data"
    }
   ],
   "source": [
    "%%gremlin\n",
    "\n",
    "g.V('20190625-1-2900SBOS0208-3B38310225').outE('consists_of').inV().path()\n",
    "// .both().simplePath()"
   ]
  }
 ],
 "metadata": {
  "kernelspec": {
   "display_name": "Python 3",
   "language": "python",
   "name": "python3"
  },
  "language_info": {
   "codemirror_mode": {
    "name": "ipython",
    "version": 3
   },
   "file_extension": ".py",
   "mimetype": "text/x-python",
   "name": "python",
   "nbconvert_exporter": "python",
   "pygments_lexer": "ipython3",
   "version": "3.7.12"
  }
 },
 "nbformat": 4,
 "nbformat_minor": 5
}
